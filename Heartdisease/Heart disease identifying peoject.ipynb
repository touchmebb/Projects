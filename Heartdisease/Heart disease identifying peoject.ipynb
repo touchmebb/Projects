{
 "cells": [
  {
   "cell_type": "markdown",
   "metadata": {},
   "source": [
    "# Heart Disease identifying project"
   ]
  },
  {
   "cell_type": "markdown",
   "metadata": {},
   "source": [
    "The datset is provided my UCI Machine learning Repository"
   ]
  },
  {
   "cell_type": "markdown",
   "metadata": {},
   "source": [
    "# Goal"
   ]
  },
  {
   "cell_type": "markdown",
   "metadata": {},
   "source": [
    "This project aims to build a model to predict the presence of heart disease in patients who has experienced chest pain given their biological data, level of the pain etc."
   ]
  },
  {
   "cell_type": "markdown",
   "metadata": {},
   "source": [
    "# Challenges"
   ]
  },
  {
   "cell_type": "markdown",
   "metadata": {},
   "source": [
    "First off, the data are quite messy. Header is missing, data are not in the right type, attributes are all \"glued\" together and there are missing values from the the set. I will have to do a \n",
    "thorough cleaning.\n",
    "\n",
    "Secondly, there are 76 variables, some of them might not be useful."
   ]
  },
  {
   "cell_type": "markdown",
   "metadata": {},
   "source": [
    "# Data cleaning"
   ]
  },
  {
   "cell_type": "code",
   "execution_count": 1,
   "metadata": {},
   "outputs": [
    {
     "name": "stderr",
     "output_type": "stream",
     "text": [
      "\n",
      "Attaching package: 'dplyr'\n",
      "\n",
      "The following objects are masked from 'package:stats':\n",
      "\n",
      "    filter, lag\n",
      "\n",
      "The following objects are masked from 'package:base':\n",
      "\n",
      "    intersect, setdiff, setequal, union\n",
      "\n",
      "Warning message in scan(file = file, what = what, sep = sep, quote = quote, dec = dec, :\n",
      "\"embedded nul(s) found in input\""
     ]
    },
    {
     "name": "stdout",
     "output_type": "stream",
     "text": [
      "Observations: 2,978\n",
      "Variables: 1\n",
      "$ V1 <fct> 1 0 63 1 -9 -9 -9, -9 1 145 1 233 -9 50 20, 1 -9 1 2 2 3 81 0, 0...\n"
     ]
    },
    {
     "data": {
      "text/html": [
       "<ol class=list-inline>\n",
       "\t<li>2978</li>\n",
       "\t<li>1</li>\n",
       "</ol>\n"
      ],
      "text/latex": [
       "\\begin{enumerate*}\n",
       "\\item 2978\n",
       "\\item 1\n",
       "\\end{enumerate*}\n"
      ],
      "text/markdown": [
       "1. 2978\n",
       "2. 1\n",
       "\n",
       "\n"
      ],
      "text/plain": [
       "[1] 2978    1"
      ]
     },
     "metadata": {},
     "output_type": "display_data"
    },
    {
     "name": "stdout",
     "output_type": "stream",
     "text": [
      "[1] 1 0 63 1 -9 -9 -9\n",
      "2065 Levels: - 84 0 1  84 0 1  3 -9 2050 701 0 1 01 0 1 01-9 -9 -9 ...\n",
      "[1] -9 1 145 1 233 -9 50 20\n",
      "2065 Levels: - 84 0 1  84 0 1  3 -9 2050 701 0 1 01 0 1 01-9 -9 -9 ...\n",
      "[1] 1 -9 1 2 2 3 81 0\n",
      "2065 Levels: - 84 0 1  84 0 1  3 -9 2050 701 0 1 01 0 1 01-9 -9 -9 ...\n",
      "[1] 0 0 0 0 1 10.5 6 13\n",
      "2065 Levels: - 84 0 1  84 0 1  3 -9 2050 701 0 1 01 0 1 01-9 -9 -9 ...\n",
      "[1] 150 60 190 90 145 85 0 0\n",
      "2065 Levels: - 84 0 1  84 0 1  3 -9 2050 701 0 1 01 0 1 01-9 -9 -9 ...\n",
      "[1] 2.3 3 -9 172 0 -9 -9 -9\n",
      "2065 Levels: - 84 0 1  84 0 1  3 -9 2050 701 0 1 01 0 1 01-9 -9 -9 ...\n",
      "[1] -9 -9 -9 6 -9 -9 -9 2\n",
      "2065 Levels: - 84 0 1  84 0 1  3 -9 2050 701 0 1 01 0 1 01-9 -9 -9 ...\n",
      "[1] 16 81 0 1 1 1 -9 1\n",
      "2065 Levels: - 84 0 1  84 0 1  3 -9 2050 701 0 1 01 0 1 01-9 -9 -9 ...\n",
      "[1] -9 1 -9 1 1 1 1 1\n",
      "2065 Levels: - 84 0 1  84 0 1  3 -9 2050 701 0 1 01 0 1 01-9 -9 -9 ...\n",
      "[1] 1 1 -9 -9 name\n",
      "2065 Levels: - 84 0 1  84 0 1  3 -9 2050 701 0 1 01 0 1 01-9 -9 -9 ...\n"
     ]
    }
   ],
   "source": [
    "# load packages\n",
    "library(dplyr)\n",
    "library(e1071)\n",
    "\n",
    "# read the data\n",
    "heart_data <- read.csv(\n",
    "    file = \"cleveland.data\",\n",
    "    header = FALSE)\n",
    "\n",
    "# take a first look at the data\n",
    "glimpse(heart_data)\n",
    "dim(heart_data)\n",
    "\n",
    "# print the first 10 rows\n",
    "for (i in 1:10) {\n",
    "print(heart_data[i,1]) }"
   ]
  },
  {
   "cell_type": "markdown",
   "metadata": {},
   "source": [
    "The code is a mess! There are 2978 rows and only 1 column, which does not make sense at all. What is wrong?\n",
    "\n",
    "The info says there are 76 attributes, but $2978/76 \\approx 39$, which doesn't add up to 303 observations.\n",
    "\n",
    "Maybe each row contains a subset of the information for each patient? I printed the first 10 rows. Notice something? Yes, there are exactly 76 attributes. In fact, attributes for each patients are stored in 10 rows with each attributes separated by a space.\n",
    "\n",
    "The reason why there aren't $10 \\times 303 = 3030$ rows is because the data are stored is a very messy way after the $282$th patient, including some unknown symbols where R couldn't read.\n",
    "\n",
    "I am going to discard the data after the $282$th patient as $303-282 = 21$ is not a big number comparing to our dataset."
   ]
  },
  {
   "cell_type": "code",
   "execution_count": 2,
   "metadata": {},
   "outputs": [],
   "source": [
    "# discard the 283th to 303th patient data\n",
    "heart_data <- heart_data[1:2820,]"
   ]
  },
  {
   "cell_type": "markdown",
   "metadata": {},
   "source": [
    "Now I am going to put all the attributes of the same patients in the same row:"
   ]
  },
  {
   "cell_type": "code",
   "execution_count": 3,
   "metadata": {},
   "outputs": [
    {
     "data": {
      "text/html": [
       "282"
      ],
      "text/latex": [
       "282"
      ],
      "text/markdown": [
       "282"
      ],
      "text/plain": [
       "[1] 282"
      ]
     },
     "metadata": {},
     "output_type": "display_data"
    }
   ],
   "source": [
    "# empty vector\n",
    "heart_data_2 <- c()\n",
    "\n",
    "for (j in 1: 282) {\n",
    "  \n",
    "  entry <- c()\n",
    "  for (i in ((j-1)* 10 + 1):(j * 10)) {\n",
    "      \n",
    "# glue the attributes together\n",
    "      entry <- paste(entry, heart_data[i], sep = \" \")\n",
    "   }\n",
    "# add to the empty vector\n",
    "  heart_data_2[j] <- entry\n",
    "}\n",
    "\n",
    "length(heart_data_2)"
   ]
  },
  {
   "cell_type": "markdown",
   "metadata": {},
   "source": [
    "We now have a vector of length 282 where all attributes of the same patients are stored in one entry. Next I will split those attributes into different columns."
   ]
  },
  {
   "cell_type": "code",
   "execution_count": 4,
   "metadata": {},
   "outputs": [
    {
     "data": {
      "text/html": [
       "<ol class=list-inline>\n",
       "\t<li>282</li>\n",
       "\t<li>77</li>\n",
       "</ol>\n"
      ],
      "text/latex": [
       "\\begin{enumerate*}\n",
       "\\item 282\n",
       "\\item 77\n",
       "\\end{enumerate*}\n"
      ],
      "text/markdown": [
       "1. 282\n",
       "2. 77\n",
       "\n",
       "\n"
      ],
      "text/plain": [
       "[1] 282  77"
      ]
     },
     "metadata": {},
     "output_type": "display_data"
    }
   ],
   "source": [
    "# empty vector for loop use\n",
    "heart_data_3 <- c()\n",
    "\n",
    "for (i in 1:282) {\n",
    "\n",
    "# split the attributes into different entries   \n",
    "  entry <- strsplit(heart_data_2[i], split = \" \")\n",
    "# bind all the attributes\n",
    "  heart_data_3 <- rbind(heart_data_3, entry)\n",
    "  \n",
    "}\n",
    "\n",
    "# put the data into a matrix for later use\n",
    "M <- matrix(\n",
    "  unlist(heart_data_3),\n",
    "  nrow <- length(heart_data_3),\n",
    "  byrow = TRUE)\n",
    "\n",
    "# check dimension\n",
    "dim(M)"
   ]
  },
  {
   "cell_type": "markdown",
   "metadata": {},
   "source": [
    "Now we are close to finish cleaning the data. Notice that there are $77$ attributes instead of $76$. The reason is I \"accidentically\" added a column of space to it. Don't worry, we will trim them away later.\n",
    "\n",
    "According to the description of the dataset, a lot of attributes are useless. For example, patient id, social security number are totally uncorrelated to heart disease. The provider of the dataset listed a total of 14 attributes that is useful to analysis. Luckily, the data are listed exactly as the description listed. I will pick those attributes up and discard the others.\n",
    "\n",
    "4 (age)\n",
    "5 (sex)\n",
    "10 (cp)\n",
    "11 (trestbps)\n",
    "13 (chol)\n",
    "17 (fbs)\n",
    "20 (restecg)\n",
    "33 (thalach)\n",
    "39 (exang)\n",
    "41 (oldpeak)\n",
    "42 (slope)\n",
    "45 (ca)\n",
    "52 (thal)\n",
    "59 (num)\n",
    "\n",
    "Notice there is an extra column of spacebars at the front."
   ]
  },
  {
   "cell_type": "code",
   "execution_count": 5,
   "metadata": {},
   "outputs": [
    {
     "name": "stdout",
     "output_type": "stream",
     "text": [
      "'data.frame':\t282 obs. of  14 variables:\n",
      " $ age     : chr  \"63\" \"67\" \"67\" \"37\" ...\n",
      " $ sex     : chr  \"1\" \"1\" \"1\" \"1\" ...\n",
      " $ cp      : chr  \"1\" \"4\" \"4\" \"3\" ...\n",
      " $ trestbps: chr  \"145\" \"160\" \"120\" \"130\" ...\n",
      " $ chol    : chr  \"233\" \"286\" \"229\" \"250\" ...\n",
      " $ fbs     : chr  \"1\" \"0\" \"0\" \"0\" ...\n",
      " $ restecg : chr  \"2\" \"2\" \"2\" \"0\" ...\n",
      " $ thalach : chr  \"150\" \"108\" \"129\" \"187\" ...\n",
      " $ exang   : chr  \"0\" \"1\" \"1\" \"0\" ...\n",
      " $ oldpeak : chr  \"2.3\" \"1.5\" \"2.6\" \"3.5\" ...\n",
      " $ slope   : chr  \"3\" \"2\" \"2\" \"3\" ...\n",
      " $ ca      : chr  \"0\" \"3\" \"2\" \"0\" ...\n",
      " $ thal    : chr  \"6\" \"3\" \"7\" \"3\" ...\n",
      " $ num     : chr  \"0\" \"2\" \"1\" \"0\" ...\n"
     ]
    }
   ],
   "source": [
    "# picking only useful attributes\n",
    "N <- M[,c(4, 5, 10, 11, 13, 17, 20, 33, 39, 41, 42, 45, 52, 59)]\n",
    "\n",
    "# adding column names\n",
    "colnames(N) <- c(\"age\", \"sex\", \"cp\", \"trestbps\", \"chol\", \"fbs\", \"restecg\", \"thalach\", \"exang\", \"oldpeak\", \"slope\", \"ca\", \"thal\", \"num\")\n",
    "\n",
    "# transform into data.frame\n",
    "heart_data <- as.data.frame(N, stringsAsFactors = FALSE)\n",
    "\n",
    "str(heart_data)"
   ]
  },
  {
   "cell_type": "markdown",
   "metadata": {},
   "source": [
    "The response variable \"num\" is a factor variable with 5 ordered levels: 0 to 4, where 0 shows non-existance of heart disease. Therefore, I am transforming it into 2 levels: 0 and 1, with 0 meaning there is no heart disease at all and 1 meaning there is.  "
   ]
  },
  {
   "cell_type": "code",
   "execution_count": 6,
   "metadata": {},
   "outputs": [
    {
     "data": {
      "text/plain": [
       "   Min. 1st Qu.  Median    Mean 3rd Qu.    Max. \n",
       " 0.0000  0.0000  0.0000  0.4433  1.0000  1.0000 "
      ]
     },
     "metadata": {},
     "output_type": "display_data"
    }
   ],
   "source": [
    "# transform column num\n",
    "heart_data$num <- as.integer(heart_data$num)\n",
    "has_disease <- (heart_data$num > 0)\n",
    "heart_data$num[has_disease] = 1\n",
    "\n",
    "summary(heart_data$num)"
   ]
  },
  {
   "cell_type": "markdown",
   "metadata": {},
   "source": [
    "Next we convert columns into the correct types. "
   ]
  },
  {
   "cell_type": "code",
   "execution_count": 7,
   "metadata": {
    "scrolled": true
   },
   "outputs": [
    {
     "name": "stdout",
     "output_type": "stream",
     "text": [
      "'data.frame':\t282 obs. of  14 variables:\n",
      " $ age     : int  63 67 67 37 41 56 62 57 63 53 ...\n",
      " $ sex     : Factor w/ 2 levels \"0\",\"1\": 2 2 2 2 1 2 1 1 2 2 ...\n",
      " $ cp      : Factor w/ 4 levels \"1\",\"2\",\"3\",\"4\": 1 4 4 3 2 2 4 4 4 4 ...\n",
      " $ trestbps: num  145 160 120 130 130 120 140 120 130 140 ...\n",
      " $ chol    : num  233 286 229 250 204 236 268 354 254 203 ...\n",
      " $ fbs     : Factor w/ 2 levels \"0\",\"1\": 2 1 1 1 1 1 1 1 1 2 ...\n",
      " $ restecg : Factor w/ 3 levels \"0\",\"1\",\"2\": 3 3 3 1 3 1 3 1 3 3 ...\n",
      " $ thalach : int  150 108 129 187 172 178 160 163 147 155 ...\n",
      " $ exang   : Factor w/ 2 levels \"0\",\"1\": 1 2 2 1 1 1 1 2 1 2 ...\n",
      " $ oldpeak : num  2.3 1.5 2.6 3.5 1.4 0.8 3.6 0.6 1.4 3.1 ...\n",
      " $ slope   : Factor w/ 3 levels \"1\",\"2\",\"3\": 3 2 2 3 1 1 3 1 2 3 ...\n",
      " $ ca      : Factor w/ 5 levels \"-9\",\"0\",\"1\",\"2\",..: 2 5 4 2 2 2 4 2 3 2 ...\n",
      " $ thal    : Ord.factor w/ 7 levels \"1\"<\"2\"<\"3\"<\"4\"<..: 6 3 7 3 3 3 3 3 7 7 ...\n",
      " $ num     : Factor w/ 2 levels \"0\",\"1\": 1 2 2 1 1 1 2 1 2 2 ...\n"
     ]
    }
   ],
   "source": [
    "# age into integer\n",
    "heart_data$age <- as.integer(heart_data$age) \n",
    "\n",
    "# sex into factor (1 = male; 0 = female)\n",
    "heart_data$sex <- as.factor(heart_data$sex)\n",
    "\n",
    "# cp into factor (4 values: value 1: typical angina \n",
    "                           # value 2: atypical angina\n",
    "                           # value 3: non-anginal pain\n",
    "                           # value 4: asymptomatic )\n",
    "heart_data$cp <- as.factor(heart_data$cp)\n",
    "\n",
    "# trestbps into numeric\n",
    "heart_data$trestbps <- as.numeric(heart_data$trestbps)\n",
    "\n",
    "# chol into numeric\n",
    "heart_data$chol <- as.numeric(heart_data$chol)\n",
    "\n",
    "# fbs into factor (1 = true, 0 = false)\n",
    "heart_data$fbs <- as.factor(heart_data$fbs)\n",
    "\n",
    "# restecg into factor (3 values: value 0: normal\n",
    "                                # value 1: having ST-T wave abnormality\n",
    "                                # value 2: showing probable or definite left ventricular hypertrophy by Estes' criteria )\n",
    "heart_data$restecg <- as.factor(heart_data$restecg)\n",
    "\n",
    "# thalach into integer\n",
    "heart_data$thalach <- as.integer(heart_data$thalach)\n",
    "\n",
    "# exang into factor (1 = yes, 0 = no)\n",
    "heart_data$exang <- as.factor(heart_data$exang)\n",
    "\n",
    "# oldpeak into numeric\n",
    "heart_data$oldpeak <- as.numeric(heart_data$oldpeak)\n",
    "\n",
    "# slope into factor (3 values: value 1: upsloping\n",
    "                            # value 2: flat\n",
    "                            # value 3: downsloping)\n",
    "heart_data$slope <- as.factor(heart_data$slope)\n",
    "\n",
    "# thal into ordinal (3 = normal, 5 = fixed defect, 7 = reversable defect)\n",
    "heart_data$thal <- ordered(heart_data$thal, levels = 1:7)\n",
    "\n",
    "# num into factor (0 = no heart disease, 1 = have heart_disease)\n",
    "heart_data$num <- as.factor(heart_data$num)\n",
    "\n",
    "# ca into factor (0, 1, 2, 3)\n",
    "heart_data$ca <- as.factor(heart_data$ca)\n",
    "\n",
    "str(heart_data)"
   ]
  },
  {
   "cell_type": "markdown",
   "metadata": {},
   "source": [
    "I will check if there is any missing values"
   ]
  },
  {
   "cell_type": "code",
   "execution_count": 8,
   "metadata": {},
   "outputs": [
    {
     "data": {
      "text/html": [
       "2"
      ],
      "text/latex": [
       "2"
      ],
      "text/markdown": [
       "2"
      ],
      "text/plain": [
       "[1] 2"
      ]
     },
     "metadata": {},
     "output_type": "display_data"
    }
   ],
   "source": [
    "#check na\n",
    "sum(is.na(heart_data))\n",
    "\n",
    "# just remove the rows away as 2 NAs is not much\n",
    "heart_data<- na.omit(heart_data)"
   ]
  },
  {
   "cell_type": "markdown",
   "metadata": {},
   "source": [
    "Now we are ready to analysis the data!"
   ]
  },
  {
   "cell_type": "markdown",
   "metadata": {},
   "source": [
    "# EDA"
   ]
  },
  {
   "cell_type": "code",
   "execution_count": 9,
   "metadata": {},
   "outputs": [
    {
     "data": {
      "text/plain": [
       "      age        sex     cp         trestbps          chol       fbs    \n",
       " Min.   :29.00   0: 90   1: 22   Min.   : 94.0   Min.   :126.0   0:239  \n",
       " 1st Qu.:47.75   1:190   2: 43   1st Qu.:120.0   1st Qu.:213.0   1: 41  \n",
       " Median :55.00           3: 83   Median :130.0   Median :244.5          \n",
       " Mean   :54.42           4:132   Mean   :131.6   Mean   :249.4          \n",
       " 3rd Qu.:61.00                   3rd Qu.:140.0   3rd Qu.:277.2          \n",
       " Max.   :77.00                   Max.   :200.0   Max.   :564.0          \n",
       "                                                                        \n",
       " restecg    thalach      exang      oldpeak      slope    ca      thal   \n",
       " 0:137   Min.   : 71.0   0:189   Min.   :0.000   1:134   -9:  2   1:  0  \n",
       " 1:  2   1st Qu.:133.8   1: 91   1st Qu.:0.000   2:128   0 :164   2:  0  \n",
       " 2:141   Median :153.5           Median :0.800   3: 18   1 : 61   3:159  \n",
       "         Mean   :149.9           Mean   :1.031           2 : 34   4:  0  \n",
       "         3rd Qu.:166.0           3rd Qu.:1.600           3 : 19   5:  0  \n",
       "         Max.   :202.0           Max.   :6.200                    6: 14  \n",
       "                                                                  7:107  \n",
       " num    \n",
       " 0:156  \n",
       " 1:124  \n",
       "        \n",
       "        \n",
       "        \n",
       "        \n",
       "        "
      ]
     },
     "metadata": {},
     "output_type": "display_data"
    }
   ],
   "source": [
    "summary(heart_data)"
   ]
  },
  {
   "cell_type": "code",
   "execution_count": 10,
   "metadata": {},
   "outputs": [
    {
     "data": {
      "image/png": "[encoded data removed]",
      "text/plain": [
       "Plot with title \"Histogram of heart_data$oldpeak\""
      ]
     },
     "metadata": {},
     "output_type": "display_data"
    }
   ],
   "source": [
    "# check plots/histograms of each attributes\n",
    "par(mfrow = c(4,4))\n",
    "hist(heart_data$age)\n",
    "hist(heart_data$trestbps)\n",
    "hist(heart_data$chol)\n",
    "hist(heart_data$thalach)\n",
    "\n",
    "plot(heart_data$cp, xlab = \"cp\")\n",
    "plot(heart_data$ca, xlab = \"ca\")\n",
    "\n",
    "hist(heart_data$oldpeak)\n",
    "\n",
    "plot(heart_data$num, xlab = \"num\")\n",
    "\n",
    "plot(heart_data$fbs, xlab = \"fbs\")\n",
    "plot(heart_data$restecg, xlab = \"restecg\")\n",
    "plot(heart_data$exang, xlab = \"exang\")\n",
    "plot(heart_data$slope, xlab = \"slope\")\n",
    "plot(heart_data$thal, xlab = \"thal\")"
   ]
  },
  {
   "cell_type": "markdown",
   "metadata": {},
   "source": [
    "The attributes age, trestbps, chol and thalach are normally distributed. \n",
    "\n",
    "For cp, it is quite interesting that the levels increases linearly, but is is a categorical variable.\n",
    "\n",
    "For ca, I don't really know what is the difference between having $0-3$ vessels colored by flourosopy. Therefore, I can't interpret it. However, it looks like the rarity increases as the number of vessels colored increases. For oldpeak, it is the same as ca.\n",
    "\n",
    "All the factor variables looks a bit even and there is nothing special."
   ]
  },
  {
   "cell_type": "code",
   "execution_count": 11,
   "metadata": {
    "scrolled": true
   },
   "outputs": [
    {
     "data": {
      "text/html": [
       "<table>\n",
       "<thead><tr><th></th><th scope=col>age</th><th scope=col>trestbps</th><th scope=col>chol</th><th scope=col>thalach</th><th scope=col>oldpeak</th></tr></thead>\n",
       "<tbody>\n",
       "\t<tr><th scope=row>age</th><td> 1.0000000 </td><td> 0.2742483 </td><td> 0.21759605</td><td>-0.39560194</td><td> 0.19553009</td></tr>\n",
       "\t<tr><th scope=row>trestbps</th><td> 0.2742483 </td><td> 1.0000000 </td><td> 0.15637690</td><td>-0.03076960</td><td> 0.19667477</td></tr>\n",
       "\t<tr><th scope=row>chol</th><td> 0.2175960 </td><td> 0.1563769 </td><td> 1.00000000</td><td>-0.02118615</td><td> 0.04275881</td></tr>\n",
       "\t<tr><th scope=row>thalach</th><td>-0.3956019 </td><td>-0.0307696 </td><td>-0.02118615</td><td> 1.00000000</td><td>-0.35160734</td></tr>\n",
       "\t<tr><th scope=row>oldpeak</th><td> 0.1955301 </td><td> 0.1966748 </td><td> 0.04275881</td><td>-0.35160734</td><td> 1.00000000</td></tr>\n",
       "</tbody>\n",
       "</table>\n"
      ],
      "text/latex": [
       "\\begin{tabular}{r|lllll}\n",
       "  & age & trestbps & chol & thalach & oldpeak\\\\\n",
       "\\hline\n",
       "\tage &  1.0000000  &  0.2742483  &  0.21759605 & -0.39560194 &  0.19553009\\\\\n",
       "\ttrestbps &  0.2742483  &  1.0000000  &  0.15637690 & -0.03076960 &  0.19667477\\\\\n",
       "\tchol &  0.2175960  &  0.1563769  &  1.00000000 & -0.02118615 &  0.04275881\\\\\n",
       "\tthalach & -0.3956019  & -0.0307696  & -0.02118615 &  1.00000000 & -0.35160734\\\\\n",
       "\toldpeak &  0.1955301  &  0.1966748  &  0.04275881 & -0.35160734 &  1.00000000\\\\\n",
       "\\end{tabular}\n"
      ],
      "text/markdown": [
       "\n",
       "| <!--/--> | age | trestbps | chol | thalach | oldpeak |\n",
       "|---|---|---|---|---|---|\n",
       "| age |  1.0000000  |  0.2742483  |  0.21759605 | -0.39560194 |  0.19553009 |\n",
       "| trestbps |  0.2742483  |  1.0000000  |  0.15637690 | -0.03076960 |  0.19667477 |\n",
       "| chol |  0.2175960  |  0.1563769  |  1.00000000 | -0.02118615 |  0.04275881 |\n",
       "| thalach | -0.3956019  | -0.0307696  | -0.02118615 |  1.00000000 | -0.35160734 |\n",
       "| oldpeak |  0.1955301  |  0.1966748  |  0.04275881 | -0.35160734 |  1.00000000 |\n",
       "\n"
      ],
      "text/plain": [
       "         age        trestbps   chol        thalach     oldpeak    \n",
       "age       1.0000000  0.2742483  0.21759605 -0.39560194  0.19553009\n",
       "trestbps  0.2742483  1.0000000  0.15637690 -0.03076960  0.19667477\n",
       "chol      0.2175960  0.1563769  1.00000000 -0.02118615  0.04275881\n",
       "thalach  -0.3956019 -0.0307696 -0.02118615  1.00000000 -0.35160734\n",
       "oldpeak   0.1955301  0.1966748  0.04275881 -0.35160734  1.00000000"
      ]
     },
     "metadata": {},
     "output_type": "display_data"
    }
   ],
   "source": [
    "# check correlations between numeric dependent variables\n",
    "cor(heart_data[,c(1, 4, 5, 8, 10)])"
   ]
  },
  {
   "cell_type": "code",
   "execution_count": 12,
   "metadata": {
    "scrolled": false
   },
   "outputs": [
    {
     "data": {
      "image/png": "[encoded data removed]",
      "text/plain": [
       "plot without title"
      ]
     },
     "metadata": {},
     "output_type": "display_data"
    }
   ],
   "source": [
    "# check correlations between numeric variables\n",
    "pairs(heart_data[,c(1, 4, 5, 8, 10)])"
   ]
  },
  {
   "cell_type": "markdown",
   "metadata": {},
   "source": [
    "We can see from both graphs that where are no clear correlations between numeric variables, except for the pair age and thalach, which has corelation of $-0.4$. I will pay attention to it and see if there is any improvements in model fitting when omiting one of the two variables."
   ]
  },
  {
   "cell_type": "markdown",
   "metadata": {},
   "source": [
    "# Model fitting"
   ]
  },
  {
   "cell_type": "markdown",
   "metadata": {},
   "source": [
    "Normally, I would try fitting a neural network, but the dataset has too little observations. Therefore, I will instead fit a SVM.\n",
    "\n",
    "For SVM, I will try to fit both linear and radial kernel to see which work best for the data. I am using $100$ random data as training and the rest $(280 -100) = 180$ as testing."
   ]
  },
  {
   "cell_type": "code",
   "execution_count": 13,
   "metadata": {},
   "outputs": [
    {
     "data": {
      "text/plain": [
       "    pred\n",
       "true  0  1\n",
       "   0 90 12\n",
       "   1 16 62"
      ]
     },
     "metadata": {},
     "output_type": "display_data"
    },
    {
     "data": {
      "text/html": [
       "0.844444444444444"
      ],
      "text/latex": [
       "0.844444444444444"
      ],
      "text/markdown": [
       "0.844444444444444"
      ],
      "text/plain": [
       "[1] 0.8444444"
      ]
     },
     "metadata": {},
     "output_type": "display_data"
    },
    {
     "data": {
      "text/plain": [
       "    pred\n",
       "true  0  1\n",
       "   0 78 24\n",
       "   1 12 66"
      ]
     },
     "metadata": {},
     "output_type": "display_data"
    },
    {
     "data": {
      "text/html": [
       "0.8"
      ],
      "text/latex": [
       "0.8"
      ],
      "text/markdown": [
       "0.8"
      ],
      "text/plain": [
       "[1] 0.8"
      ]
     },
     "metadata": {},
     "output_type": "display_data"
    }
   ],
   "source": [
    "# select consistent training set\n",
    "set.seed(1)\n",
    "train <- sample(280, 100)\n",
    "\n",
    "# tuning costs and gamma for linear kernel\n",
    "tune.svm <- tune(svm, num~., \n",
    "                 data = heart_data[train,], \n",
    "                 kernel = \"linear\", \n",
    "                 ranges = list(cost = c(0.1, 1, 10, 100, 1000),\n",
    "                 gamma = c(0.5, 1, 2, 3, 4)))\n",
    "\n",
    "table(true = heart_data[-train, \"num\"], pred = predict(tune.svm$best.model, newdata = heart_data[-train,]))\n",
    "\n",
    "# accuracy\n",
    "(90 + 62) / (90 + 62 + 16 + 12)\n",
    "\n",
    "# select consistent training set\n",
    "set.seed(1)\n",
    "train <- sample(280, 100)\n",
    "\n",
    "# tuning costs and gamma for radial kernel\n",
    "tune.svm <- tune(svm, num~., \n",
    "                 data = heart_data[train,], \n",
    "                 kernel = \"radial\", \n",
    "                 ranges = list(cost = c(0.1, 1, 10, 100, 1000),\n",
    "                 gamma = c(0.5, 1, 2, 3, 4)))\n",
    "\n",
    "table(true = heart_data[-train, \"num\"], pred = predict(tune.svm$best.model, newdata = heart_data[-train,]))\n",
    "\n",
    "# accuracy\n",
    "(78 + 66) / (78 + 66 + 12 + 24)"
   ]
  },
  {
   "cell_type": "markdown",
   "metadata": {},
   "source": [
    "We have obtained a $84\\%$ accuracy using a linear kernerl and a $80\\%$ accuracy using a radial kernerl. Therefore, I choose linear over radial kernel.\n",
    "\n",
    "Notice in EDA I said I would try to fit a model without age or thalach. And this is what I am going to do."
   ]
  },
  {
   "cell_type": "code",
   "execution_count": 14,
   "metadata": {},
   "outputs": [
    {
     "data": {
      "text/plain": [
       "    pred\n",
       "true  0  1\n",
       "   0 89 13\n",
       "   1 15 63"
      ]
     },
     "metadata": {},
     "output_type": "display_data"
    },
    {
     "data": {
      "text/html": [
       "0.844444444444444"
      ],
      "text/latex": [
       "0.844444444444444"
      ],
      "text/markdown": [
       "0.844444444444444"
      ],
      "text/plain": [
       "[1] 0.8444444"
      ]
     },
     "metadata": {},
     "output_type": "display_data"
    },
    {
     "data": {
      "text/plain": [
       "    pred\n",
       "true  0  1\n",
       "   0 87 15\n",
       "   1 13 65"
      ]
     },
     "metadata": {},
     "output_type": "display_data"
    },
    {
     "data": {
      "text/html": [
       "0.844444444444444"
      ],
      "text/latex": [
       "0.844444444444444"
      ],
      "text/markdown": [
       "0.844444444444444"
      ],
      "text/plain": [
       "[1] 0.8444444"
      ]
     },
     "metadata": {},
     "output_type": "display_data"
    }
   ],
   "source": [
    "# select consistent training set\n",
    "set.seed(1)\n",
    "train <- sample(280, 100)\n",
    "\n",
    "# tuning costs and gamma for linear kernel\n",
    "tune.svm <- tune(svm, num~.-age, \n",
    "                 data = heart_data[train,], \n",
    "                 kernel = \"linear\", \n",
    "                 ranges = list(cost = c(0.1, 1, 10, 100, 1000),\n",
    "                 gamma = c(0.5, 1, 2, 3, 4)))\n",
    "\n",
    "table(true = heart_data[-train, \"num\"], pred = predict(tune.svm$best.model, newdata = heart_data[-train,]))\n",
    "\n",
    "# accuracy\n",
    "(89 + 63) / (89 + 63 + 15 + 13)\n",
    "\n",
    "# select consistent training set\n",
    "set.seed(1)\n",
    "train <- sample(280, 100)\n",
    "\n",
    "# tuning costs and gamma for linear kernel\n",
    "tune.svm <- tune(svm, num~.-thalach, \n",
    "                 data = heart_data[train,], \n",
    "                 kernel = \"linear\", \n",
    "                 ranges = list(cost = c(0.1, 1, 10, 100, 1000),\n",
    "                 gamma = c(0.5, 1, 2, 3, 4)))\n",
    "\n",
    "table(true = heart_data[-train, \"num\"], pred = predict(tune.svm$best.model, newdata = heart_data[-train,]))\n",
    "\n",
    "# accuracy\n",
    "(87 + 65) / (87 + 65 + 13 + 15)"
   ]
  },
  {
   "cell_type": "markdown",
   "metadata": {},
   "source": [
    "Notice there are no difference in accuracy, whether we include both age and thalach, only age or only thalach. Therefore, it does not matter in this case."
   ]
  },
  {
   "cell_type": "markdown",
   "metadata": {},
   "source": [
    "# Conclusion"
   ]
  },
  {
   "cell_type": "markdown",
   "metadata": {},
   "source": [
    "With the model accuracy of $84\\%$, I would say it has done a pretty good job, specifically given we are using less than half of the dataset to train the model."
   ]
  }
 ],
 "metadata": {
  "kernelspec": {
   "display_name": "R",
   "language": "R",
   "name": "ir"
  },
  "language_info": {
   "codemirror_mode": "r",
   "file_extension": ".r",
   "mimetype": "text/x-r-source",
   "name": "R",
   "pygments_lexer": "r",
   "version": "3.6.1"
  }
 },
 "nbformat": 4,
 "nbformat_minor": 4
}
