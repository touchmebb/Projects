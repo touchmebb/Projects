{
 "cells": [
  {
   "cell_type": "markdown",
   "metadata": {},
   "source": [
    "# Wisconsin Breast Cancer Diagnostic"
   ]
  },
  {
   "cell_type": "markdown",
   "metadata": {},
   "source": [
    "This project aims to build a machine learning model to determine if the tumor is benign or malignant. \n",
    "\n",
    "The dataset are obtained at the University of Wisconsin Hospitals and are stored by UCI Machine Learning Respository. \n",
    "\n",
    "The dataset contains information of 699 patients of Dr. Wolberg who diagnosed a tumor at their breast. The set of variables are features of the physical condition of the patients at around their tumors. \n",
    "\n",
    "1) Patient ID \n",
    "2) clump thickness (scale: 1 - 10)\n",
    "3) Uniformity of Cell Size (scale: 1 - 10)\n",
    "4) Uniformity of Cell Shape (scale: 1 - 10)\n",
    "5) Marginal Adhesion (scale: 1 - 10)\n",
    "6) Single Epithelial Cell Size  (scale: 1 - 10)\n",
    "7) Bare Nuclei (scale: 1 - 10)\n",
    "8) Bland Chromatin (scale: 1 - 10)\n",
    "9) Normal Nucleoli (scale: 1 - 10)\n",
    "10) Mitoses (scale: 1 - 10)\n",
    "11) Class (2 for benign, 4 for malignant)\n",
    "\n",
    "All the predictors are on sale of 1 to 10. The responese variable, Class, is a factor showing 2 for benign tumor and 4 for malignant tumor. Details can be read from the file \"breast-cancer-wisconsin.names\"."
   ]
  },
  {
   "cell_type": "markdown",
   "metadata": {},
   "source": [
    "# Data cleaning"
   ]
  },
  {
   "cell_type": "code",
   "execution_count": 1,
   "metadata": {
    "scrolled": false
   },
   "outputs": [
    {
     "data": {
      "text/html": [
       "<ol class=list-inline>\n",
       "\t<li>'V1'</li>\n",
       "\t<li>'V2'</li>\n",
       "\t<li>'V3'</li>\n",
       "\t<li>'V4'</li>\n",
       "\t<li>'V5'</li>\n",
       "\t<li>'V6'</li>\n",
       "\t<li>'V7'</li>\n",
       "\t<li>'V8'</li>\n",
       "\t<li>'V9'</li>\n",
       "\t<li>'V10'</li>\n",
       "\t<li>'V11'</li>\n",
       "</ol>\n"
      ],
      "text/latex": [
       "\\begin{enumerate*}\n",
       "\\item 'V1'\n",
       "\\item 'V2'\n",
       "\\item 'V3'\n",
       "\\item 'V4'\n",
       "\\item 'V5'\n",
       "\\item 'V6'\n",
       "\\item 'V7'\n",
       "\\item 'V8'\n",
       "\\item 'V9'\n",
       "\\item 'V10'\n",
       "\\item 'V11'\n",
       "\\end{enumerate*}\n"
      ],
      "text/markdown": [
       "1. 'V1'\n",
       "2. 'V2'\n",
       "3. 'V3'\n",
       "4. 'V4'\n",
       "5. 'V5'\n",
       "6. 'V6'\n",
       "7. 'V7'\n",
       "8. 'V8'\n",
       "9. 'V9'\n",
       "10. 'V10'\n",
       "11. 'V11'\n",
       "\n",
       "\n"
      ],
      "text/plain": [
       " [1] \"V1\"  \"V2\"  \"V3\"  \"V4\"  \"V5\"  \"V6\"  \"V7\"  \"V8\"  \"V9\"  \"V10\" \"V11\""
      ]
     },
     "metadata": {},
     "output_type": "display_data"
    }
   ],
   "source": [
    "# read data\n",
    "data <- read.csv(\n",
    "    file = \"breast-cancer-wisconsin.data\",\n",
    "    header = FALSE)\n",
    "\n",
    "# first look at the names data\n",
    "names(data)"
   ]
  },
  {
   "cell_type": "markdown",
   "metadata": {},
   "source": [
    "When I first looked at the data in Excel. The columns are all collapsed into one column. Luckily R regonized the pattern and separated the columns. \n",
    "\n",
    "First, the column names are missing. I have to first add it to the data:"
   ]
  },
  {
   "cell_type": "code",
   "execution_count": 2,
   "metadata": {},
   "outputs": [
    {
     "name": "stdout",
     "output_type": "stream",
     "text": [
      "'data.frame':\t699 obs. of  11 variables:\n",
      " $ id number                  : int  1000025 1002945 1015425 1016277 1017023 1017122 1018099 1018561 1033078 1033078 ...\n",
      " $ clump_thickness            : int  5 5 3 6 4 8 1 2 2 4 ...\n",
      " $ cell_size                  : int  1 4 1 8 1 10 1 1 1 2 ...\n",
      " $ cell_shape                 : int  1 4 1 8 1 10 1 2 1 1 ...\n",
      " $ marginal_adhesion          : int  1 5 1 1 3 8 1 1 1 1 ...\n",
      " $ single_epithelial_cell_size: int  2 7 2 3 2 7 2 2 2 2 ...\n",
      " $ bare_nuclei                : Factor w/ 11 levels \"?\",\"1\",\"10\",\"2\",..: 2 3 4 6 2 3 3 2 2 2 ...\n",
      " $ bland_chromatin            : int  3 3 3 3 3 9 3 3 1 2 ...\n",
      " $ normal_nucleoli            : int  1 2 1 7 1 7 1 1 1 1 ...\n",
      " $ mitoses                    : int  1 1 1 1 1 1 1 1 5 1 ...\n",
      " $ class                      : int  2 2 2 2 2 4 2 2 2 2 ...\n"
     ]
    }
   ],
   "source": [
    "# give variables name to the columns\n",
    "colnames(data) <- c(\"id number\", \"clump_thickness\", \"cell_size\", \"cell_shape\", \"marginal_adhesion\", \"single_epithelial_cell_size\", \"bare_nuclei\", \"bland_chromatin\", \"normal_nucleoli\", \"mitoses\", \"class\")\n",
    "\n",
    "# first look at the data\n",
    "str(data)"
   ]
  },
  {
   "cell_type": "markdown",
   "metadata": {},
   "source": [
    "Notice that all the data types are integers except for bare_nuclei. bare_nuclei is a factor with 11 levels. Notice that there should only be 10 levels but there is an extra ? level. This is equivalent to a missing value but replaced with a question mark. I first check how many are there and if the amount is small, I will remove the rows."
   ]
  },
  {
   "cell_type": "code",
   "execution_count": 3,
   "metadata": {
    "scrolled": true
   },
   "outputs": [
    {
     "data": {
      "text/html": [
       "<ol class=list-inline>\n",
       "\t<li>16</li>\n",
       "\t<li>11</li>\n",
       "</ol>\n"
      ],
      "text/latex": [
       "\\begin{enumerate*}\n",
       "\\item 16\n",
       "\\item 11\n",
       "\\end{enumerate*}\n"
      ],
      "text/markdown": [
       "1. 16\n",
       "2. 11\n",
       "\n",
       "\n"
      ],
      "text/plain": [
       "[1] 16 11"
      ]
     },
     "metadata": {},
     "output_type": "display_data"
    }
   ],
   "source": [
    "# check data with question mark\n",
    "qm.data <- data[data$bare_nuclei == \"?\", ]\n",
    "dim(qm.data)"
   ]
  },
  {
   "cell_type": "markdown",
   "metadata": {},
   "source": [
    "There are only 16 rows of them. Therefore, I will remove all of them:"
   ]
  },
  {
   "cell_type": "code",
   "execution_count": 4,
   "metadata": {},
   "outputs": [
    {
     "data": {
      "text/html": [
       "<ol class=list-inline>\n",
       "\t<li>683</li>\n",
       "\t<li>11</li>\n",
       "</ol>\n"
      ],
      "text/latex": [
       "\\begin{enumerate*}\n",
       "\\item 683\n",
       "\\item 11\n",
       "\\end{enumerate*}\n"
      ],
      "text/markdown": [
       "1. 683\n",
       "2. 11\n",
       "\n",
       "\n"
      ],
      "text/plain": [
       "[1] 683  11"
      ]
     },
     "metadata": {},
     "output_type": "display_data"
    }
   ],
   "source": [
    "# remove rows with missing data\n",
    "data <- data[!data$bare_nuclei == \"?\", ]\n",
    "dim(data)"
   ]
  },
  {
   "cell_type": "markdown",
   "metadata": {},
   "source": [
    "Next, notice these data should be either ordinal or a factor. I will transform all of these into the right data type:"
   ]
  },
  {
   "cell_type": "code",
   "execution_count": 5,
   "metadata": {},
   "outputs": [
    {
     "name": "stdout",
     "output_type": "stream",
     "text": [
      "'data.frame':\t683 obs. of  11 variables:\n",
      " $ id number                  : int  1000025 1002945 1015425 1016277 1017023 1017122 1018099 1018561 1033078 1033078 ...\n",
      " $ clump_thickness            : Ord.factor w/ 10 levels \"1\"<\"2\"<\"3\"<\"4\"<..: 5 5 3 6 4 8 1 2 2 4 ...\n",
      " $ cell_size                  : Ord.factor w/ 10 levels \"1\"<\"2\"<\"3\"<\"4\"<..: 1 4 1 8 1 10 1 1 1 2 ...\n",
      " $ cell_shape                 : Ord.factor w/ 10 levels \"1\"<\"2\"<\"3\"<\"4\"<..: 1 4 1 8 1 10 1 2 1 1 ...\n",
      " $ marginal_adhesion          : Ord.factor w/ 10 levels \"1\"<\"2\"<\"3\"<\"4\"<..: 1 5 1 1 3 8 1 1 1 1 ...\n",
      " $ single_epithelial_cell_size: Ord.factor w/ 10 levels \"1\"<\"2\"<\"3\"<\"4\"<..: 2 7 2 3 2 7 2 2 2 2 ...\n",
      " $ bare_nuclei                : Factor w/ 10 levels \"1\",\"10\",\"2\",\"3\",..: 1 2 3 5 1 2 2 1 1 1 ...\n",
      " $ bland_chromatin            : Factor w/ 10 levels \"1\",\"2\",\"3\",\"4\",..: 3 3 3 3 3 9 3 3 1 2 ...\n",
      " $ normal_nucleoli            : Factor w/ 10 levels \"1\",\"2\",\"3\",\"4\",..: 1 2 1 7 1 7 1 1 1 1 ...\n",
      " $ mitoses                    : Factor w/ 9 levels \"1\",\"2\",\"3\",\"4\",..: 1 1 1 1 1 1 1 1 5 1 ...\n",
      " $ class                      : Factor w/ 2 levels \"benign\",\"mlignant\": 1 1 1 1 1 2 1 1 1 1 ...\n"
     ]
    }
   ],
   "source": [
    "# clump_thickness to ordered\n",
    "data$clump_thickness <- as.ordered(data$clump_thickness)\n",
    "\n",
    "# cell_size to ordered\n",
    "data$cell_size <- as.ordered(data$cell_size)\n",
    "\n",
    "# cell_shape to ordered\n",
    "data$cell_shape <- as.ordered(data$cell_shape)\n",
    "\n",
    "# marg.adhesion to ordered\n",
    "data$marginal_adhesion <- as.ordered(data$marginal_adhesion)\n",
    "\n",
    "# single_epithelial_cell_size to ordered\n",
    "data$single_epithelial_cell_size <- as.ordered(data$single_epithelial_cell_size)\n",
    "\n",
    "# bland_chromatin to factor\n",
    "data$bland_chromatin <- as.factor(data$bland_chromatin)\n",
    "\n",
    "# normal_nucleoli to factor\n",
    "data$normal_nucleoli <- as.factor(data$normal_nucleoli)\n",
    "\n",
    "# mitoses\n",
    "data$mitoses <- as.factor(data$mitoses)\n",
    "\n",
    "# bare nuclei to factor\n",
    "data$bare_nuclei <- as.factor(as.character(data$bare_nuclei))\n",
    "\n",
    "# convert response column to factor (benign = 0, malignant = 1)\n",
    "data$class <- data$class / 2 - 1\n",
    "index <- (data$class == 0)\n",
    "class <- c()\n",
    "class[index] <- \"benign\"\n",
    "class[!index] <- \"mlignant\"\n",
    "class <- as.factor(class)\n",
    "data$class <- class\n",
    "\n",
    "str(data)"
   ]
  },
  {
   "cell_type": "markdown",
   "metadata": {},
   "source": [
    "The data type looks right now. Next, notice that patient id number has no correlation with tumor type at all. I will remove this variable."
   ]
  },
  {
   "cell_type": "code",
   "execution_count": 6,
   "metadata": {},
   "outputs": [],
   "source": [
    "# remove id column\n",
    "data <- data[,-1]"
   ]
  },
  {
   "cell_type": "markdown",
   "metadata": {},
   "source": [
    "We are now ready to fo some exploratory data analysis."
   ]
  },
  {
   "cell_type": "markdown",
   "metadata": {},
   "source": [
    "# Exploratory data analysis"
   ]
  },
  {
   "cell_type": "markdown",
   "metadata": {},
   "source": [
    "First, let have a boxplot of all the variables to see if there are outliners:"
   ]
  },
  {
   "cell_type": "code",
   "execution_count": 7,
   "metadata": {},
   "outputs": [
    {
     "data": {
      "image/png": "[encoded data removed]",
      "text/plain": [
       "plot without title"
      ]
     },
     "metadata": {},
     "output_type": "display_data"
    }
   ],
   "source": [
    "# boxplot\n",
    "boxplot(data)"
   ]
  },
  {
   "cell_type": "markdown",
   "metadata": {},
   "source": [
    "Looks like there are serverl variables with outliners, with mitoses being the one with largest number.\n",
    "\n",
    "To better identify the presence of outlier, we will plot some histgrams of the variables."
   ]
  },
  {
   "cell_type": "code",
   "execution_count": 8,
   "metadata": {},
   "outputs": [
    {
     "data": {
      "image/png": "[encoded data removed]",
      "text/plain": [
       "Plot with title \"Histogram of as.numeric(data$mitoses)\""
      ]
     },
     "metadata": {},
     "output_type": "display_data"
    }
   ],
   "source": [
    "# histogram\n",
    "par(mfrow=c(3, 3))\n",
    "hist(as.numeric(data$clump_thickness))\n",
    "hist(as.numeric(data$cell_size))\n",
    "hist(as.numeric(data$cell_shape))\n",
    "hist(as.numeric(data$marginal_adhesion))\n",
    "hist(as.numeric(data$single_epithelial_cell_size))\n",
    "hist(as.numeric(data$bare_nuclei))\n",
    "hist(as.numeric(data$bland_chromatin))\n",
    "hist(as.numeric(data$normal_nucleoli))\n",
    "hist(as.numeric(data$mitoses))"
   ]
  },
  {
   "cell_type": "markdown",
   "metadata": {},
   "source": [
    "From the histogram, we can see there are some outliers in variables mitoses and bare_nuclei.\n",
    "\n",
    "Looks like everthing is fine now, we can start fitting a model."
   ]
  },
  {
   "cell_type": "markdown",
   "metadata": {},
   "source": [
    "# Model fitting"
   ]
  },
  {
   "cell_type": "markdown",
   "metadata": {},
   "source": [
    "My approach is to fit a neural network with the first 9 variables as the input and the variable Class as the output. \n",
    "\n",
    "Notice all the predictors are on the same scale, however, from the boxplot, they don't have similar distribution. \n",
    "\n",
    "For neural networks, it is always good to standardize the variables so the training of weights are affected equally.  Therefore, I will standardize the predictors. "
   ]
  },
  {
   "cell_type": "code",
   "execution_count": 9,
   "metadata": {},
   "outputs": [],
   "source": [
    "# take only predictors and convert all to number\n",
    "input <- as.data.frame(lapply(data[,1:9], function(x) as.numeric(x)))\n",
    "                              \n",
    "# standardize data\n",
    "max_data <- apply(input, 2, max)\n",
    "min_data <- apply(input, 2, min)\n",
    "data_scaled <- scale(input,center = min_data, scale = max_data - min_data)"
   ]
  },
  {
   "cell_type": "markdown",
   "metadata": {},
   "source": [
    "In this dataset, since we are trying to make classification, I will create a dummy variable for the output which contains 2 columns, with one being cancerbenign and one being cancermalignant.\n",
    "\n",
    "If the entry of the original column is benign, then it shows 1 on the cancerbenign column and 0 on the cancermalignant, and vice versa.\n",
    "\n",
    "Then I will add those to the scaled data."
   ]
  },
  {
   "cell_type": "code",
   "execution_count": 10,
   "metadata": {},
   "outputs": [
    {
     "data": {
      "text/html": [
       "<table>\n",
       "<thead><tr><th scope=col>cancerbenign</th><th scope=col>cancermlignant</th></tr></thead>\n",
       "<tbody>\n",
       "\t<tr><td>1</td><td>0</td></tr>\n",
       "\t<tr><td>1</td><td>0</td></tr>\n",
       "\t<tr><td>1</td><td>0</td></tr>\n",
       "\t<tr><td>1</td><td>0</td></tr>\n",
       "\t<tr><td>1</td><td>0</td></tr>\n",
       "\t<tr><td>0</td><td>1</td></tr>\n",
       "</tbody>\n",
       "</table>\n"
      ],
      "text/latex": [
       "\\begin{tabular}{r|ll}\n",
       " cancerbenign & cancermlignant\\\\\n",
       "\\hline\n",
       "\t 1 & 0\\\\\n",
       "\t 1 & 0\\\\\n",
       "\t 1 & 0\\\\\n",
       "\t 1 & 0\\\\\n",
       "\t 1 & 0\\\\\n",
       "\t 0 & 1\\\\\n",
       "\\end{tabular}\n"
      ],
      "text/markdown": [
       "\n",
       "| cancerbenign | cancermlignant |\n",
       "|---|---|\n",
       "| 1 | 0 |\n",
       "| 1 | 0 |\n",
       "| 1 | 0 |\n",
       "| 1 | 0 |\n",
       "| 1 | 0 |\n",
       "| 0 | 1 |\n",
       "\n"
      ],
      "text/plain": [
       "  cancerbenign cancermlignant\n",
       "1 1            0             \n",
       "2 1            0             \n",
       "3 1            0             \n",
       "4 1            0             \n",
       "5 1            0             \n",
       "6 0            1             "
      ]
     },
     "metadata": {},
     "output_type": "display_data"
    }
   ],
   "source": [
    "# create dummy variables of response\n",
    "cancer <- data$class\n",
    "cancer <- as.data.frame(cancer)\n",
    "cancer <- with(cancer, data.frame(model.matrix(~cancer+0)))\n",
    "head(cancer)\n",
    "\n",
    "# predictors + response\n",
    "data_final <- as.data.frame(cbind(data_scaled, cancer))"
   ]
  },
  {
   "cell_type": "markdown",
   "metadata": {},
   "source": [
    "The data is now ready for model training. I will first split the data randomly into a 70:30 ratio, with 70% training data and 30% testing data."
   ]
  },
  {
   "cell_type": "code",
   "execution_count": 11,
   "metadata": {},
   "outputs": [],
   "source": [
    "# split into training and testing data\n",
    "index <- sample(1:nrow(data_final), round(0.7*nrow(data_final)))\n",
    "data_training <- as.data.frame(data_final[index,])\n",
    "data_testing <- as.data.frame(data_final[-index,])"
   ]
  },
  {
   "cell_type": "markdown",
   "metadata": {},
   "source": [
    "The next codes are all the models, with f being the formula of the model. Recall call that for a simple question like the above, there is no need for 2 hidden layers (too complex). The general rule of thumb for number of neurons in the hidden layer between the number of inputs and number of outputs, or the mean of the two. That is, the number of neurons in the hidden layer should be between 3 to 10, with 5 (round off mean). I will first with 5 and see if we need to try more based on the predicted results."
   ]
  },
  {
   "cell_type": "code",
   "execution_count": 12,
   "metadata": {},
   "outputs": [
    {
     "data": {
      "text/plain": [
       "cancerbenign + cancermlignant ~ clump_thickness + cell_size + \n",
       "    cell_shape + marginal_adhesion + single_epithelial_cell_size + \n",
       "    bare_nuclei + bland_chromatin + normal_nucleoli + mitoses"
      ]
     },
     "metadata": {},
     "output_type": "display_data"
    }
   ],
   "source": [
    "# neural network library\n",
    "library(neuralnet)\n",
    "\n",
    "# formaul for network\n",
    "n <- names(data_final[1:9])\n",
    "f <- as.formula(paste(\"cancerbenign + cancermlignant ~\", paste(n, collapse = \" + \")))\n",
    "\n",
    "f\n",
    "\n",
    "# neuralnet model\n",
    "net <- neuralnet(f, data = data_training, hidden = 5, linear.output = FALSE)"
   ]
  },
  {
   "cell_type": "markdown",
   "metadata": {},
   "source": [
    "There is a known bug when using R in Jupyter, where one cannot plot the neural net from package \"neuralnet\". I ran the exact same code in Rstudio in my computer and the following plot is produced."
   ]
  },
  {
   "cell_type": "code",
   "execution_count": 13,
   "metadata": {},
   "outputs": [
    {
     "data": {
      "image/png": "[encoded data removed]"
     },
     "metadata": {},
     "output_type": "display_data"
    }
   ],
   "source": [
    "library(\"IRdisplay\")\n",
    "display_png(file=\"neuralnet.png\") "
   ]
  },
  {
   "cell_type": "markdown",
   "metadata": {},
   "source": [
    "Next, we will put the testing data into the model and see how well it predicts the results."
   ]
  },
  {
   "cell_type": "code",
   "execution_count": 14,
   "metadata": {},
   "outputs": [
    {
     "data": {
      "text/plain": [
       "          pred_result\n",
       "           benign malignant\n",
       "  benign      137         3\n",
       "  mlignant      3        62"
      ]
     },
     "metadata": {},
     "output_type": "display_data"
    }
   ],
   "source": [
    "# predict test response\n",
    "pred_net_test <- compute(net, data_testing[, 1:9])\n",
    "\n",
    "# switch test result to 0/1\n",
    "pred_result <- round(pred_net_test$net.result)\n",
    "\n",
    "# from dummy variables back to the original variable\n",
    "pred_result <- c(\"benign\", \"malignant\")[apply(pred_result, 1, which.max)]\n",
    "\n",
    "# confusion matrix\n",
    "(predict.table = table(data$class[-index], pred_result))"
   ]
  },
  {
   "cell_type": "code",
   "execution_count": 15,
   "metadata": {},
   "outputs": [
    {
     "data": {
      "text/html": [
       "0.970731707317073"
      ],
      "text/latex": [
       "0.970731707317073"
      ],
      "text/markdown": [
       "0.970731707317073"
      ],
      "text/plain": [
       "[1] 0.9707317"
      ]
     },
     "metadata": {},
     "output_type": "display_data"
    }
   ],
   "source": [
    "# Accuracy\n",
    "(137 + 62) / (137 + 62 + 3 + 3)"
   ]
  },
  {
   "cell_type": "markdown",
   "metadata": {},
   "source": [
    "With the model, we have produced a $97\\%$ accuracy prediction with the model, which is very good in my opinion. However, the most important one is the precentage of diagnosting malignant preciously. Therefore, what we truly care is \n",
    "\n",
    "\\begin{equation}\n",
    "\\frac{\\text{number of correct malignant diagnosted}}{\\text{number of all malignant}} = \\frac{\\text{True positive}}{\\text{All positive}} = \\text{True positive rate}\n",
    "\\end{equation}"
   ]
  },
  {
   "cell_type": "code",
   "execution_count": 16,
   "metadata": {},
   "outputs": [
    {
     "data": {
      "text/html": [
       "0.953846153846154"
      ],
      "text/latex": [
       "0.953846153846154"
      ],
      "text/markdown": [
       "0.953846153846154"
      ],
      "text/plain": [
       "[1] 0.9538462"
      ]
     },
     "metadata": {},
     "output_type": "display_data"
    }
   ],
   "source": [
    "# True positive rate\n",
    "62 / (62 + 3)"
   ]
  },
  {
   "cell_type": "markdown",
   "metadata": {},
   "source": [
    "The True positive rate is $93\\%$, which is pretty good \"on paper\". However, we can see that 7 patients has been wrongly diagnosted, which is not very good in my opinion. This means that for every 100 patients with malignant tumor, 7 patient will be diagnosted wrongly.\n",
    "\n",
    "I think this is not ideal, and there should be better modelling for this type of medical problems. I will try fit a neural network with 3, 6, 9 neurons in the hidden layer."
   ]
  },
  {
   "cell_type": "code",
   "execution_count": 31,
   "metadata": {},
   "outputs": [
    {
     "data": {
      "text/plain": [
       "          pred_result\n",
       "           benign malignant\n",
       "  benign      138         2\n",
       "  mlignant      2        63"
      ]
     },
     "metadata": {},
     "output_type": "display_data"
    }
   ],
   "source": [
    "# neuralnet model with 3 neurons\n",
    "net3 <- neuralnet(f, data = data_training, hidden = 3, linear.output = FALSE)\n",
    "\n",
    "# predict test response\n",
    "pred_net_test <- compute(net3, data_testing[, 1:9])\n",
    "\n",
    "# switch test result to 0/1\n",
    "pred_result <- round(pred_net_test$net.result)\n",
    "\n",
    "# from dummy variables back to the original variable\n",
    "pred_result <- c(\"benign\", \"malignant\")[apply(pred_result, 1, which.max)]\n",
    "\n",
    "# confusion matrix\n",
    "(predict.table = table(data$class[-index], pred_result))"
   ]
  },
  {
   "cell_type": "code",
   "execution_count": 32,
   "metadata": {},
   "outputs": [
    {
     "data": {
      "text/plain": [
       "          pred_result\n",
       "           benign malignant\n",
       "  benign      137         3\n",
       "  mlignant      3        62"
      ]
     },
     "metadata": {},
     "output_type": "display_data"
    }
   ],
   "source": [
    "# neuralnet model with 6 neurons\n",
    "net6 <- neuralnet(f, data = data_training, hidden = 3, linear.output = FALSE)\n",
    "\n",
    "# predict test response\n",
    "pred_net_test <- compute(net6, data_testing[, 1:9])\n",
    "\n",
    "# switch test result to 0/1\n",
    "pred_result <- round(pred_net_test$net.result)\n",
    "\n",
    "# from dummy variables back to the original variable\n",
    "pred_result <- c(\"benign\", \"malignant\")[apply(pred_result, 1, which.max)]\n",
    "\n",
    "# confusion matrix\n",
    "(predict.table = table(data$class[-index], pred_result))"
   ]
  },
  {
   "cell_type": "code",
   "execution_count": 33,
   "metadata": {},
   "outputs": [
    {
     "data": {
      "text/plain": [
       "          pred_result\n",
       "           benign malignant\n",
       "  benign      136         4\n",
       "  mlignant      3        62"
      ]
     },
     "metadata": {},
     "output_type": "display_data"
    }
   ],
   "source": [
    "# neuralnet model with 9 neurons\n",
    "net9 <- neuralnet(f, data = data_training, hidden = 3, linear.output = FALSE)\n",
    "\n",
    "# predict test response\n",
    "pred_net_test <- compute(net9, data_testing[, 1:9])\n",
    "\n",
    "# switch test result to 0/1\n",
    "pred_result <- round(pred_net_test$net.result)\n",
    "\n",
    "# from dummy variables back to the original variable\n",
    "pred_result <- c(\"benign\", \"malignant\")[apply(pred_result, 1, which.max)]\n",
    "\n",
    "# confusion matrix\n",
    "(predict.table = table(data$class[-index], pred_result))"
   ]
  },
  {
   "cell_type": "markdown",
   "metadata": {},
   "source": [
    "Here we can see that with 6 and 9 neurons, the results are actually worse. With 3 neurons, we are having the best results. Lets calculate the accuracy and True positive rate:"
   ]
  },
  {
   "cell_type": "code",
   "execution_count": 35,
   "metadata": {},
   "outputs": [
    {
     "data": {
      "text/html": [
       "0.980487804878049"
      ],
      "text/latex": [
       "0.980487804878049"
      ],
      "text/markdown": [
       "0.980487804878049"
      ],
      "text/plain": [
       "[1] 0.9804878"
      ]
     },
     "metadata": {},
     "output_type": "display_data"
    },
    {
     "data": {
      "text/html": [
       "0.969230769230769"
      ],
      "text/latex": [
       "0.969230769230769"
      ],
      "text/markdown": [
       "0.969230769230769"
      ],
      "text/plain": [
       "[1] 0.9692308"
      ]
     },
     "metadata": {},
     "output_type": "display_data"
    }
   ],
   "source": [
    "# Accuracy\n",
    "(138 + 63) / (138 + 63 + 2 + 2)\n",
    "\n",
    "# True positive rate\n",
    "63 / (63 + 2)"
   ]
  },
  {
   "cell_type": "markdown",
   "metadata": {},
   "source": [
    "With the new model, we have boosted our accuracy to $98\\%$ and our True positive rate to $97\\%$. This means that for 100 patients with malignant tumor, only 3 patients is wrongly diagnosted, which is an excellent result!"
   ]
  }
 ],
 "metadata": {
  "kernelspec": {
   "display_name": "R",
   "language": "R",
   "name": "ir"
  },
  "language_info": {
   "codemirror_mode": "r",
   "file_extension": ".r",
   "mimetype": "text/x-r-source",
   "name": "R",
   "pygments_lexer": "r",
   "version": "3.6.1"
  }
 },
 "nbformat": 4,
 "nbformat_minor": 4
}
