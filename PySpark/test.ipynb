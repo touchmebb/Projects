{
 "cells": [
  {
   "cell_type": "markdown",
   "metadata": {},
   "source": [
    "https://www.kaggle.com/fatmakursun/pyspark-ml-tutorial-for-beginners/notebook"
   ]
  }
 ],
 "metadata": {
  "interpreter": {
   "hash": "0958c18be3965e109422bfd1257f98ca254e10ee8d6dce8aad39f6fa576f89df"
  },
  "kernelspec": {
   "display_name": "Python 3.10.0 64-bit ('pysparkenv': venv)",
   "language": "python",
   "name": "python3"
  },
  "language_info": {
   "name": "python",
   "version": "3.10.0"
  },
  "orig_nbformat": 4
 },
 "nbformat": 4,
 "nbformat_minor": 2
}
